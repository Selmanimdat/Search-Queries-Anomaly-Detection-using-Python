{
 "cells": [
  {
   "cell_type": "markdown",
   "id": "acddbe73",
   "metadata": {},
   "source": [
    "# Search Queries Anomaly Detection using Python"
   ]
  },
  {
   "cell_type": "code",
   "execution_count": 1,
   "id": "10ddc3d9",
   "metadata": {},
   "outputs": [],
   "source": [
    "# Search Queries Anomaly Detection using Python "
   ]
  },
  {
   "cell_type": "code",
   "execution_count": 2,
   "id": "9a0125c9",
   "metadata": {},
   "outputs": [],
   "source": [
    "#libraries"
   ]
  },
  {
   "cell_type": "code",
   "execution_count": 20,
   "id": "d3389e77",
   "metadata": {},
   "outputs": [],
   "source": [
    "import pandas as pd\n",
    "from scipy.stats import zscore\n",
    "from sklearn.ensemble import IsolationForest"
   ]
  },
  {
   "cell_type": "code",
   "execution_count": 5,
   "id": "0b709361",
   "metadata": {},
   "outputs": [],
   "source": [
    "#reda the data "
   ]
  },
  {
   "cell_type": "code",
   "execution_count": 7,
   "id": "1c183c7e",
   "metadata": {},
   "outputs": [],
   "source": [
    "df=pd.read_csv(\"Queries.csv\")"
   ]
  },
  {
   "cell_type": "code",
   "execution_count": 8,
   "id": "70bcc519",
   "metadata": {},
   "outputs": [],
   "source": [
    "# see first 5 cels"
   ]
  },
  {
   "cell_type": "code",
   "execution_count": 10,
   "id": "761e21b6",
   "metadata": {},
   "outputs": [
    {
     "data": {
      "text/html": [
       "<div>\n",
       "<style scoped>\n",
       "    .dataframe tbody tr th:only-of-type {\n",
       "        vertical-align: middle;\n",
       "    }\n",
       "\n",
       "    .dataframe tbody tr th {\n",
       "        vertical-align: top;\n",
       "    }\n",
       "\n",
       "    .dataframe thead th {\n",
       "        text-align: right;\n",
       "    }\n",
       "</style>\n",
       "<table border=\"1\" class=\"dataframe\">\n",
       "  <thead>\n",
       "    <tr style=\"text-align: right;\">\n",
       "      <th></th>\n",
       "      <th>Top queries</th>\n",
       "      <th>Clicks</th>\n",
       "      <th>Impressions</th>\n",
       "      <th>CTR</th>\n",
       "      <th>Position</th>\n",
       "    </tr>\n",
       "  </thead>\n",
       "  <tbody>\n",
       "    <tr>\n",
       "      <th>0</th>\n",
       "      <td>number guessing game python</td>\n",
       "      <td>5223</td>\n",
       "      <td>14578</td>\n",
       "      <td>35.83%</td>\n",
       "      <td>1.61</td>\n",
       "    </tr>\n",
       "    <tr>\n",
       "      <th>1</th>\n",
       "      <td>thecleverprogrammer</td>\n",
       "      <td>2809</td>\n",
       "      <td>3456</td>\n",
       "      <td>81.28%</td>\n",
       "      <td>1.02</td>\n",
       "    </tr>\n",
       "    <tr>\n",
       "      <th>2</th>\n",
       "      <td>python projects with source code</td>\n",
       "      <td>2077</td>\n",
       "      <td>73380</td>\n",
       "      <td>2.83%</td>\n",
       "      <td>5.94</td>\n",
       "    </tr>\n",
       "    <tr>\n",
       "      <th>3</th>\n",
       "      <td>classification report in machine learning</td>\n",
       "      <td>2012</td>\n",
       "      <td>4959</td>\n",
       "      <td>40.57%</td>\n",
       "      <td>1.28</td>\n",
       "    </tr>\n",
       "    <tr>\n",
       "      <th>4</th>\n",
       "      <td>the clever programmer</td>\n",
       "      <td>1931</td>\n",
       "      <td>2528</td>\n",
       "      <td>76.38%</td>\n",
       "      <td>1.09</td>\n",
       "    </tr>\n",
       "  </tbody>\n",
       "</table>\n",
       "</div>"
      ],
      "text/plain": [
       "                                 Top queries  Clicks  Impressions     CTR  \\\n",
       "0                number guessing game python    5223        14578  35.83%   \n",
       "1                        thecleverprogrammer    2809         3456  81.28%   \n",
       "2           python projects with source code    2077        73380   2.83%   \n",
       "3  classification report in machine learning    2012         4959  40.57%   \n",
       "4                      the clever programmer    1931         2528  76.38%   \n",
       "\n",
       "   Position  \n",
       "0      1.61  \n",
       "1      1.02  \n",
       "2      5.94  \n",
       "3      1.28  \n",
       "4      1.09  "
      ]
     },
     "execution_count": 10,
     "metadata": {},
     "output_type": "execute_result"
    }
   ],
   "source": [
    "df.head()"
   ]
  },
  {
   "cell_type": "code",
   "execution_count": 11,
   "id": "af2e85c8",
   "metadata": {},
   "outputs": [
    {
     "data": {
      "text/plain": [
       "Top queries    0\n",
       "Clicks         0\n",
       "Impressions    0\n",
       "CTR            0\n",
       "Position       0\n",
       "dtype: int64"
      ]
     },
     "execution_count": 11,
     "metadata": {},
     "output_type": "execute_result"
    }
   ],
   "source": [
    "#check isnul\n",
    "df.isnull().sum()"
   ]
  },
  {
   "cell_type": "code",
   "execution_count": 12,
   "id": "74eef219",
   "metadata": {},
   "outputs": [],
   "source": [
    "# convert CTR column to a numeric value\n",
    "df['CTR'] = df['CTR'].str.rstrip('%').astype('float') / 100.0"
   ]
  },
  {
   "cell_type": "code",
   "execution_count": 15,
   "id": "74078dd7",
   "metadata": {},
   "outputs": [],
   "source": [
    "# calculate z-scores for clicks, ımpressions, CTR, and position because we must know reality \n",
    "df[['Clicks_zscore', 'Impressions_zscore', 'CTR_zscore', 'Position_zscore']] = df[['Clicks', 'Impressions', 'CTR', 'Position']].apply(zscore)"
   ]
  },
  {
   "cell_type": "code",
   "execution_count": 16,
   "id": "24d0d4cf",
   "metadata": {},
   "outputs": [],
   "source": [
    "# set a threshold for anomaly detection \n",
    "threshold = 2.5"
   ]
  },
  {
   "cell_type": "code",
   "execution_count": 17,
   "id": "063b0a50",
   "metadata": {},
   "outputs": [],
   "source": [
    "# ıdentify anomalies based on z-scores\n",
    "anomalies = df[(abs(df['Clicks_zscore']) > threshold) | (abs(df['Impressions_zscore']) > threshold) | (abs(df['CTR_zscore']) > threshold) | (abs(df['Position_zscore']) > threshold)]"
   ]
  },
  {
   "cell_type": "code",
   "execution_count": 19,
   "id": "56a07718",
   "metadata": {},
   "outputs": [
    {
     "data": {
      "text/html": [
       "<div>\n",
       "<style scoped>\n",
       "    .dataframe tbody tr th:only-of-type {\n",
       "        vertical-align: middle;\n",
       "    }\n",
       "\n",
       "    .dataframe tbody tr th {\n",
       "        vertical-align: top;\n",
       "    }\n",
       "\n",
       "    .dataframe thead th {\n",
       "        text-align: right;\n",
       "    }\n",
       "</style>\n",
       "<table border=\"1\" class=\"dataframe\">\n",
       "  <thead>\n",
       "    <tr style=\"text-align: right;\">\n",
       "      <th></th>\n",
       "      <th>Top queries</th>\n",
       "      <th>Clicks</th>\n",
       "      <th>Impressions</th>\n",
       "      <th>CTR</th>\n",
       "      <th>Position</th>\n",
       "      <th>Clicks_zscore</th>\n",
       "      <th>Impressions_zscore</th>\n",
       "      <th>CTR_zscore</th>\n",
       "      <th>Position_zscore</th>\n",
       "    </tr>\n",
       "  </thead>\n",
       "  <tbody>\n",
       "    <tr>\n",
       "      <th>0</th>\n",
       "      <td>number guessing game python</td>\n",
       "      <td>5223</td>\n",
       "      <td>14578</td>\n",
       "      <td>0.3583</td>\n",
       "      <td>1.61</td>\n",
       "      <td>17.981690</td>\n",
       "      <td>2.603589</td>\n",
       "      <td>0.802568</td>\n",
       "      <td>-0.836471</td>\n",
       "    </tr>\n",
       "    <tr>\n",
       "      <th>1</th>\n",
       "      <td>thecleverprogrammer</td>\n",
       "      <td>2809</td>\n",
       "      <td>3456</td>\n",
       "      <td>0.8128</td>\n",
       "      <td>1.02</td>\n",
       "      <td>9.387320</td>\n",
       "      <td>0.312412</td>\n",
       "      <td>3.553993</td>\n",
       "      <td>-1.044187</td>\n",
       "    </tr>\n",
       "    <tr>\n",
       "      <th>2</th>\n",
       "      <td>python projects with source code</td>\n",
       "      <td>2077</td>\n",
       "      <td>73380</td>\n",
       "      <td>0.0283</td>\n",
       "      <td>5.94</td>\n",
       "      <td>6.781239</td>\n",
       "      <td>14.717039</td>\n",
       "      <td>-1.195166</td>\n",
       "      <td>0.687951</td>\n",
       "    </tr>\n",
       "    <tr>\n",
       "      <th>3</th>\n",
       "      <td>classification report in machine learning</td>\n",
       "      <td>2012</td>\n",
       "      <td>4959</td>\n",
       "      <td>0.4057</td>\n",
       "      <td>1.28</td>\n",
       "      <td>6.549825</td>\n",
       "      <td>0.622036</td>\n",
       "      <td>1.089515</td>\n",
       "      <td>-0.952651</td>\n",
       "    </tr>\n",
       "    <tr>\n",
       "      <th>4</th>\n",
       "      <td>the clever programmer</td>\n",
       "      <td>1931</td>\n",
       "      <td>2528</td>\n",
       "      <td>0.7638</td>\n",
       "      <td>1.09</td>\n",
       "      <td>6.261447</td>\n",
       "      <td>0.121240</td>\n",
       "      <td>3.257359</td>\n",
       "      <td>-1.019543</td>\n",
       "    </tr>\n",
       "  </tbody>\n",
       "</table>\n",
       "</div>"
      ],
      "text/plain": [
       "                                 Top queries  Clicks  Impressions     CTR  \\\n",
       "0                number guessing game python    5223        14578  0.3583   \n",
       "1                        thecleverprogrammer    2809         3456  0.8128   \n",
       "2           python projects with source code    2077        73380  0.0283   \n",
       "3  classification report in machine learning    2012         4959  0.4057   \n",
       "4                      the clever programmer    1931         2528  0.7638   \n",
       "\n",
       "   Position  Clicks_zscore  Impressions_zscore  CTR_zscore  Position_zscore  \n",
       "0      1.61      17.981690            2.603589    0.802568        -0.836471  \n",
       "1      1.02       9.387320            0.312412    3.553993        -1.044187  \n",
       "2      5.94       6.781239           14.717039   -1.195166         0.687951  \n",
       "3      1.28       6.549825            0.622036    1.089515        -0.952651  \n",
       "4      1.09       6.261447            0.121240    3.257359        -1.019543  "
      ]
     },
     "execution_count": 19,
     "metadata": {},
     "output_type": "execute_result"
    }
   ],
   "source": [
    "anomalies.head()"
   ]
  },
  {
   "cell_type": "code",
   "execution_count": 21,
   "id": "c85f6495",
   "metadata": {},
   "outputs": [],
   "source": [
    "# ml model"
   ]
  },
  {
   "cell_type": "code",
   "execution_count": 22,
   "id": "da809e83",
   "metadata": {},
   "outputs": [],
   "source": [
    "# extract numerical features for the ısolation forest model\n",
    "features = df[['Clicks', 'Impressions', 'CTR', 'Position']]"
   ]
  },
  {
   "cell_type": "code",
   "execution_count": 23,
   "id": "e9b7d0bd",
   "metadata": {},
   "outputs": [
    {
     "name": "stderr",
     "output_type": "stream",
     "text": [
      "C:\\ProgramData\\Anaconda3\\lib\\site-packages\\sklearn\\base.py:439: UserWarning: X does not have valid feature names, but IsolationForest was fitted with feature names\n",
      "  warnings.warn(\n"
     ]
    },
    {
     "data": {
      "text/html": [
       "<style>#sk-container-id-1 {color: black;background-color: white;}#sk-container-id-1 pre{padding: 0;}#sk-container-id-1 div.sk-toggleable {background-color: white;}#sk-container-id-1 label.sk-toggleable__label {cursor: pointer;display: block;width: 100%;margin-bottom: 0;padding: 0.3em;box-sizing: border-box;text-align: center;}#sk-container-id-1 label.sk-toggleable__label-arrow:before {content: \"▸\";float: left;margin-right: 0.25em;color: #696969;}#sk-container-id-1 label.sk-toggleable__label-arrow:hover:before {color: black;}#sk-container-id-1 div.sk-estimator:hover label.sk-toggleable__label-arrow:before {color: black;}#sk-container-id-1 div.sk-toggleable__content {max-height: 0;max-width: 0;overflow: hidden;text-align: left;background-color: #f0f8ff;}#sk-container-id-1 div.sk-toggleable__content pre {margin: 0.2em;color: black;border-radius: 0.25em;background-color: #f0f8ff;}#sk-container-id-1 input.sk-toggleable__control:checked~div.sk-toggleable__content {max-height: 200px;max-width: 100%;overflow: auto;}#sk-container-id-1 input.sk-toggleable__control:checked~label.sk-toggleable__label-arrow:before {content: \"▾\";}#sk-container-id-1 div.sk-estimator input.sk-toggleable__control:checked~label.sk-toggleable__label {background-color: #d4ebff;}#sk-container-id-1 div.sk-label input.sk-toggleable__control:checked~label.sk-toggleable__label {background-color: #d4ebff;}#sk-container-id-1 input.sk-hidden--visually {border: 0;clip: rect(1px 1px 1px 1px);clip: rect(1px, 1px, 1px, 1px);height: 1px;margin: -1px;overflow: hidden;padding: 0;position: absolute;width: 1px;}#sk-container-id-1 div.sk-estimator {font-family: monospace;background-color: #f0f8ff;border: 1px dotted black;border-radius: 0.25em;box-sizing: border-box;margin-bottom: 0.5em;}#sk-container-id-1 div.sk-estimator:hover {background-color: #d4ebff;}#sk-container-id-1 div.sk-parallel-item::after {content: \"\";width: 100%;border-bottom: 1px solid gray;flex-grow: 1;}#sk-container-id-1 div.sk-label:hover label.sk-toggleable__label {background-color: #d4ebff;}#sk-container-id-1 div.sk-serial::before {content: \"\";position: absolute;border-left: 1px solid gray;box-sizing: border-box;top: 0;bottom: 0;left: 50%;z-index: 0;}#sk-container-id-1 div.sk-serial {display: flex;flex-direction: column;align-items: center;background-color: white;padding-right: 0.2em;padding-left: 0.2em;position: relative;}#sk-container-id-1 div.sk-item {position: relative;z-index: 1;}#sk-container-id-1 div.sk-parallel {display: flex;align-items: stretch;justify-content: center;background-color: white;position: relative;}#sk-container-id-1 div.sk-item::before, #sk-container-id-1 div.sk-parallel-item::before {content: \"\";position: absolute;border-left: 1px solid gray;box-sizing: border-box;top: 0;bottom: 0;left: 50%;z-index: -1;}#sk-container-id-1 div.sk-parallel-item {display: flex;flex-direction: column;z-index: 1;position: relative;background-color: white;}#sk-container-id-1 div.sk-parallel-item:first-child::after {align-self: flex-end;width: 50%;}#sk-container-id-1 div.sk-parallel-item:last-child::after {align-self: flex-start;width: 50%;}#sk-container-id-1 div.sk-parallel-item:only-child::after {width: 0;}#sk-container-id-1 div.sk-dashed-wrapped {border: 1px dashed gray;margin: 0 0.4em 0.5em 0.4em;box-sizing: border-box;padding-bottom: 0.4em;background-color: white;}#sk-container-id-1 div.sk-label label {font-family: monospace;font-weight: bold;display: inline-block;line-height: 1.2em;}#sk-container-id-1 div.sk-label-container {text-align: center;}#sk-container-id-1 div.sk-container {/* jupyter's `normalize.less` sets `[hidden] { display: none; }` but bootstrap.min.css set `[hidden] { display: none !important; }` so we also need the `!important` here to be able to override the default hidden behavior on the sphinx rendered scikit-learn.org. See: https://github.com/scikit-learn/scikit-learn/issues/21755 */display: inline-block !important;position: relative;}#sk-container-id-1 div.sk-text-repr-fallback {display: none;}</style><div id=\"sk-container-id-1\" class=\"sk-top-container\"><div class=\"sk-text-repr-fallback\"><pre>IsolationForest(contamination=0.25)</pre><b>In a Jupyter environment, please rerun this cell to show the HTML representation or trust the notebook. <br />On GitHub, the HTML representation is unable to render, please try loading this page with nbviewer.org.</b></div><div class=\"sk-container\" hidden><div class=\"sk-item\"><div class=\"sk-estimator sk-toggleable\"><input class=\"sk-toggleable__control sk-hidden--visually\" id=\"sk-estimator-id-1\" type=\"checkbox\" checked><label for=\"sk-estimator-id-1\" class=\"sk-toggleable__label sk-toggleable__label-arrow\">IsolationForest</label><div class=\"sk-toggleable__content\"><pre>IsolationForest(contamination=0.25)</pre></div></div></div></div></div>"
      ],
      "text/plain": [
       "IsolationForest(contamination=0.25)"
      ]
     },
     "execution_count": 23,
     "metadata": {},
     "output_type": "execute_result"
    }
   ],
   "source": [
    "# create and fit the ısolation Forest model\n",
    "model = IsolationForest(contamination=0.25)\n",
    "model.fit(features)"
   ]
  },
  {
   "cell_type": "code",
   "execution_count": 24,
   "id": "70ae324b",
   "metadata": {},
   "outputs": [],
   "source": [
    "# predict outliers/anomalies\n",
    "df['Anomaly'] = model.predict(features)"
   ]
  },
  {
   "cell_type": "code",
   "execution_count": 26,
   "id": "81e4eef7",
   "metadata": {},
   "outputs": [],
   "source": [
    "anomalies = df[df['Anomaly'] == -1]"
   ]
  },
  {
   "cell_type": "code",
   "execution_count": 28,
   "id": "01c7aff7",
   "metadata": {},
   "outputs": [
    {
     "data": {
      "text/html": [
       "<div>\n",
       "<style scoped>\n",
       "    .dataframe tbody tr th:only-of-type {\n",
       "        vertical-align: middle;\n",
       "    }\n",
       "\n",
       "    .dataframe tbody tr th {\n",
       "        vertical-align: top;\n",
       "    }\n",
       "\n",
       "    .dataframe thead th {\n",
       "        text-align: right;\n",
       "    }\n",
       "</style>\n",
       "<table border=\"1\" class=\"dataframe\">\n",
       "  <thead>\n",
       "    <tr style=\"text-align: right;\">\n",
       "      <th></th>\n",
       "      <th>Top queries</th>\n",
       "      <th>Clicks</th>\n",
       "      <th>Impressions</th>\n",
       "      <th>CTR</th>\n",
       "      <th>Position</th>\n",
       "      <th>Clicks_zscore</th>\n",
       "      <th>Impressions_zscore</th>\n",
       "      <th>CTR_zscore</th>\n",
       "      <th>Position_zscore</th>\n",
       "      <th>Anomaly</th>\n",
       "    </tr>\n",
       "  </thead>\n",
       "  <tbody>\n",
       "    <tr>\n",
       "      <th>0</th>\n",
       "      <td>number guessing game python</td>\n",
       "      <td>5223</td>\n",
       "      <td>14578</td>\n",
       "      <td>0.3583</td>\n",
       "      <td>1.61</td>\n",
       "      <td>17.981690</td>\n",
       "      <td>2.603589</td>\n",
       "      <td>0.802568</td>\n",
       "      <td>-0.836471</td>\n",
       "      <td>-1</td>\n",
       "    </tr>\n",
       "    <tr>\n",
       "      <th>1</th>\n",
       "      <td>thecleverprogrammer</td>\n",
       "      <td>2809</td>\n",
       "      <td>3456</td>\n",
       "      <td>0.8128</td>\n",
       "      <td>1.02</td>\n",
       "      <td>9.387320</td>\n",
       "      <td>0.312412</td>\n",
       "      <td>3.553993</td>\n",
       "      <td>-1.044187</td>\n",
       "      <td>-1</td>\n",
       "    </tr>\n",
       "    <tr>\n",
       "      <th>2</th>\n",
       "      <td>python projects with source code</td>\n",
       "      <td>2077</td>\n",
       "      <td>73380</td>\n",
       "      <td>0.0283</td>\n",
       "      <td>5.94</td>\n",
       "      <td>6.781239</td>\n",
       "      <td>14.717039</td>\n",
       "      <td>-1.195166</td>\n",
       "      <td>0.687951</td>\n",
       "      <td>-1</td>\n",
       "    </tr>\n",
       "    <tr>\n",
       "      <th>3</th>\n",
       "      <td>classification report in machine learning</td>\n",
       "      <td>2012</td>\n",
       "      <td>4959</td>\n",
       "      <td>0.4057</td>\n",
       "      <td>1.28</td>\n",
       "      <td>6.549825</td>\n",
       "      <td>0.622036</td>\n",
       "      <td>1.089515</td>\n",
       "      <td>-0.952651</td>\n",
       "      <td>-1</td>\n",
       "    </tr>\n",
       "    <tr>\n",
       "      <th>4</th>\n",
       "      <td>the clever programmer</td>\n",
       "      <td>1931</td>\n",
       "      <td>2528</td>\n",
       "      <td>0.7638</td>\n",
       "      <td>1.09</td>\n",
       "      <td>6.261447</td>\n",
       "      <td>0.121240</td>\n",
       "      <td>3.257359</td>\n",
       "      <td>-1.019543</td>\n",
       "      <td>-1</td>\n",
       "    </tr>\n",
       "  </tbody>\n",
       "</table>\n",
       "</div>"
      ],
      "text/plain": [
       "                                 Top queries  Clicks  Impressions     CTR  \\\n",
       "0                number guessing game python    5223        14578  0.3583   \n",
       "1                        thecleverprogrammer    2809         3456  0.8128   \n",
       "2           python projects with source code    2077        73380  0.0283   \n",
       "3  classification report in machine learning    2012         4959  0.4057   \n",
       "4                      the clever programmer    1931         2528  0.7638   \n",
       "\n",
       "   Position  Clicks_zscore  Impressions_zscore  CTR_zscore  Position_zscore  \\\n",
       "0      1.61      17.981690            2.603589    0.802568        -0.836471   \n",
       "1      1.02       9.387320            0.312412    3.553993        -1.044187   \n",
       "2      5.94       6.781239           14.717039   -1.195166         0.687951   \n",
       "3      1.28       6.549825            0.622036    1.089515        -0.952651   \n",
       "4      1.09       6.261447            0.121240    3.257359        -1.019543   \n",
       "\n",
       "   Anomaly  \n",
       "0       -1  \n",
       "1       -1  \n",
       "2       -1  \n",
       "3       -1  \n",
       "4       -1  "
      ]
     },
     "execution_count": 28,
     "metadata": {},
     "output_type": "execute_result"
    }
   ],
   "source": [
    "anomalies.head()"
   ]
  },
  {
   "cell_type": "code",
   "execution_count": 29,
   "id": "e66042dc",
   "metadata": {},
   "outputs": [],
   "source": [
    "#sources"
   ]
  },
  {
   "cell_type": "markdown",
   "id": "30c02dd7",
   "metadata": {},
   "source": [
    "[https://chat.openai.com/],[https://thecleverprogrammer.com/2023/11/20/search-queries-anomaly-detection-using-python/]"
   ]
  }
 ],
 "metadata": {
  "kernelspec": {
   "display_name": "Python 3 (ipykernel)",
   "language": "python",
   "name": "python3"
  },
  "language_info": {
   "codemirror_mode": {
    "name": "ipython",
    "version": 3
   },
   "file_extension": ".py",
   "mimetype": "text/x-python",
   "name": "python",
   "nbconvert_exporter": "python",
   "pygments_lexer": "ipython3",
   "version": "3.9.13"
  }
 },
 "nbformat": 4,
 "nbformat_minor": 5
}
